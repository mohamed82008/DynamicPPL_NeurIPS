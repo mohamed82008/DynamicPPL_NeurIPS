{
 "cells": [
  {
   "cell_type": "code",
   "execution_count": 1,
   "metadata": {},
   "outputs": [],
   "source": [
    "using DrWatson\n",
    "@quickactivate"
   ]
  },
  {
   "cell_type": "code",
   "execution_count": 2,
   "metadata": {},
   "outputs": [],
   "source": [
    "using BenchmarkTools, StaticArrays, Distributions\n",
    "import ReverseDiff, ReverseDiff.DiffResults, Tracker, Zygote\n",
    "\n",
    "# ReverseDiff with compiled tape\n",
    "function get_gradient_reversediff(ℓπ, θ::AbstractVector)\n",
    "    inputs = (θ,)\n",
    "    f_tape = ReverseDiff.GradientTape(ℓπ, inputs)\n",
    "    compiled_f_tape = ReverseDiff.compile(f_tape)\n",
    "    results = similar.(inputs)\n",
    "    all_results = DiffResults.GradientResult.(results)\n",
    "    function ∂ℓπ∂θ(::Function, θ::AbstractVector)\n",
    "        ReverseDiff.gradient!(all_results, compiled_f_tape, (θ,))\n",
    "        return DiffResults.value(first(all_results)), DiffResults.gradient(first(all_results))\n",
    "    end\n",
    "    return ∂ℓπ∂θ\n",
    "end\n",
    "\n",
    "const GRADS = (\n",
    "    :ReverseDiff => ReverseDiff.gradient,\n",
    "    :ReverseDiffCompiled => get_gradient_reversediff,\n",
    "    :Tracker => Tracker.gradient,\n",
    "    :Zygote => Zygote.gradient,\n",
    ")\n",
    "\n",
    ";"
   ]
  },
  {
   "cell_type": "code",
   "execution_count": 3,
   "metadata": {},
   "outputs": [],
   "source": [
    "function trybtime(f, x; verbose=true)\n",
    "    try\n",
    "        t = @belapsed $f($x)\n",
    "        verbose && println(\" --- takes $t seconds\")\n",
    "        return t\n",
    "    catch e\n",
    "        verbose && println(\" --- fails due to $e\")\n",
    "        return NaN\n",
    "    end\n",
    "end\n",
    "\n",
    "function benchmark(f, x; verbose=true)\n",
    "    xs = [x, SVector{length(x), eltype(x)}(x)]\n",
    "    res = []\n",
    "    for x in xs\n",
    "        verbose && print(rpad(\"$f(x::$(typeof(x)))\", 60))\n",
    "        trybtime(f, x; verbose=verbose)\n",
    "        ts = []\n",
    "        for grad in GRADS\n",
    "            gradn, gradf = grad\n",
    "            # Precompile the code\n",
    "            if gradn == :ReverseDiffCompiled\n",
    "                gradf = gradf(f, x)\n",
    "            end\n",
    "            verbose && print(rpad(\"- $gradn\", 25))\n",
    "            if x isa SArray && gradn == :Zygote\n",
    "                verbose && println(\" --- skips for SArray because it never finishs\")\n",
    "                continue\n",
    "            end\n",
    "            t = trybtime(x -> gradf(f, x), x; verbose=verbose)\n",
    "            push!(ts, t)\n",
    "        end\n",
    "        push!(res, ts)\n",
    "    end\n",
    "    return res\n",
    "end\n",
    "\n",
    ";"
   ]
  },
  {
   "cell_type": "markdown",
   "metadata": {},
   "source": [
    "## Simple loop"
   ]
  },
  {
   "cell_type": "code",
   "execution_count": 4,
   "metadata": {},
   "outputs": [
    {
     "data": {
      "text/plain": [
       ":(function Main.logdensity_10(var\"#104#x\")\n",
       "      #= In[4]:10 =#\n",
       "      var\"#103#res\" = 0\n",
       "      var\"#103#res\" += var\"#104#x\"[1]\n",
       "      var\"#103#res\" += var\"#104#x\"[2]\n",
       "      var\"#103#res\" += var\"#104#x\"[3]\n",
       "      var\"#103#res\" += var\"#104#x\"[4]\n",
       "      var\"#103#res\" += var\"#104#x\"[5]\n",
       "      var\"#103#res\" += var\"#104#x\"[6]\n",
       "      var\"#103#res\" += var\"#104#x\"[7]\n",
       "      var\"#103#res\" += var\"#104#x\"[8]\n",
       "      var\"#103#res\" += var\"#104#x\"[9]\n",
       "      var\"#103#res\" += var\"#104#x\"[10]\n",
       "      return var\"#103#res\"\n",
       "  end)"
      ]
     },
     "metadata": {},
     "output_type": "display_data"
    }
   ],
   "source": [
    "function logdensity(x)\n",
    "    res = 0\n",
    "    for i = 1:size(x, 1)\n",
    "        res += x[i]\n",
    "    end\n",
    "    return res\n",
    "end\n",
    "\n",
    "macro unroll_logdensity(n)\n",
    "    ex = :(function $(Symbol(\"logdensity_$n\"))(x) end)\n",
    "    body = ex.args[2]\n",
    "    push!(body.args, :(res = 0))\n",
    "    for i in 1:n\n",
    "        push!(body.args, :(res += x[$i]))\n",
    "    end\n",
    "    push!(body.args, :(return res))\n",
    "    return ex\n",
    "end\n",
    "\n",
    "@macroexpand(@unroll_logdensity(10)) |> display\n",
    "\n",
    ";"
   ]
  },
  {
   "cell_type": "code",
   "execution_count": 5,
   "metadata": {},
   "outputs": [
    {
     "name": "stdout",
     "output_type": "stream",
     "text": [
      "logdensity(x::Array{Float64,1})                         --- takes 5.897888888888888e-7 seconds\n",
      "- ReverseDiff             --- takes 0.000107142 seconds\n",
      "- ReverseDiffCompiled     --- takes 1.9302e-5 seconds\n",
      "- Tracker                 --- takes 0.000301681 seconds\n",
      "- Zygote                  --- takes 0.001100816 seconds\n",
      "logdensity(x::SArray{Tuple{500},Float64,1,500})         --- takes 4.646802030456853e-7 seconds\n",
      "- ReverseDiff             --- takes 0.000111563 seconds\n",
      "- ReverseDiffCompiled     --- takes 1.8827e-5 seconds\n",
      "- Tracker                 --- fails due to ErrorException(\"setindex!(::SArray{Tuple{500},Float64,1,500}, value, ::Int) is not defined.\")\n",
      "- Zygote                  --- skips for SArray because it never finishs\n",
      "logdensity_500(x::Array{Float64,1})                     --- takes 5.177631578947369e-7 seconds\n",
      "- ReverseDiff             --- takes 0.000120347 seconds\n",
      "- ReverseDiffCompiled     --- takes 1.8521e-5 seconds\n",
      "- Tracker                 --- takes 0.000391226 seconds\n",
      "- Zygote                  --- takes 0.004062599 seconds\n",
      "logdensity_500(x::SArray{Tuple{500},Float64,1,500})     --- takes 3.6e-11 seconds\n",
      "- ReverseDiff             --- takes 0.000126198 seconds\n",
      "- ReverseDiffCompiled     --- takes 1.8667e-5 seconds\n",
      "- Tracker                 --- fails due to ErrorException(\"setindex!(::SArray{Tuple{500},Float64,1,500}, value, ::Int) is not defined.\")\n",
      "- Zygote                  --- skips for SArray because it never finishs\n"
     ]
    }
   ],
   "source": [
    "let x = rand(500), logdensity_unroll = @unroll_logdensity(500)\n",
    "    benchmark(logdensity, x)\n",
    "    benchmark(logdensity_unroll, x)\n",
    "end\n",
    "\n",
    ";"
   ]
  },
  {
   "cell_type": "code",
   "execution_count": 6,
   "metadata": {},
   "outputs": [
    {
     "name": "stdout",
     "output_type": "stream",
     "text": [
      "logdensity(x::Array{Float64,1})                         --- takes 1.121e-6 seconds\n",
      "- ReverseDiff             --- takes 0.000217781 seconds\n",
      "- ReverseDiffCompiled     --- takes 3.614e-5 seconds\n",
      "- Tracker                 --- takes 0.001065741 seconds\n",
      "- Zygote                  --- takes 0.003784525 seconds\n",
      "logdensity(x::SArray{Tuple{1000},Float64,1,1000})       --- takes 9.011627906976744e-7 seconds\n",
      "- ReverseDiff             --- takes 0.000215418 seconds\n",
      "- ReverseDiffCompiled     --- takes 3.7502e-5 seconds\n",
      "- Tracker                 --- fails due to ErrorException(\"setindex!(::SArray{Tuple{1000},Float64,1,1000}, value, ::Int) is not defined.\")\n",
      "- Zygote                  --- skips for SArray because it never finishs\n",
      "logdensity_1000(x::Array{Float64,1})                    --- takes 1.0478e-6 seconds\n",
      "- ReverseDiff             --- takes 0.000253561 seconds\n",
      "- ReverseDiffCompiled     --- takes 3.8117e-5 seconds\n",
      "- Tracker                 --- takes 0.001173887 seconds\n",
      "- Zygote                  --- takes 0.017804365 seconds\n",
      "logdensity_1000(x::SArray{Tuple{1000},Float64,1,1000})  --- takes 3.6999999999999995e-11 seconds\n",
      "- ReverseDiff             --- takes 0.000275008 seconds\n",
      "- ReverseDiffCompiled     --- takes 3.8911e-5 seconds\n",
      "- Tracker                 --- fails due to ErrorException(\"setindex!(::SArray{Tuple{1000},Float64,1,1000}, value, ::Int) is not defined.\")\n",
      "- Zygote                  --- skips for SArray because it never finishs\n"
     ]
    }
   ],
   "source": [
    "let x = rand(1_000), logdensity_unroll = @unroll_logdensity(1_000)\n",
    "    benchmark(logdensity, x)\n",
    "    benchmark(logdensity_unroll, x)\n",
    "end\n",
    "\n",
    ";"
   ]
  },
  {
   "cell_type": "markdown",
   "metadata": {},
   "source": [
    "## Stochastic volatility"
   ]
  },
  {
   "cell_type": "code",
   "execution_count": 7,
   "metadata": {},
   "outputs": [
    {
     "data": {
      "text/plain": [
       ":(function Main.get_logdensity_sv_5(var\"#129#y\")\n",
       "      #= In[7]:73 =#\n",
       "      function var\"#128#logdensity_sv_5\"(var\"#136#theta\")\n",
       "          #= In[7]:54 =#\n",
       "          var\"#130#res\" = 0\n",
       "          var\"#131#T\" = Main.length(var\"#129#y\")\n",
       "          var\"#132#ϕ\" = var\"#136#theta\"[1]\n",
       "          var\"#130#res\" += Main.logpdf(Main.Uniform(-1, 1), var\"#132#ϕ\")\n",
       "          var\"#133#σ\" = var\"#136#theta\"[2]\n",
       "          var\"#130#res\" += Main.logpdf(Main.truncated(Main.Cauchy(0, 5), 0, Main.Inf), var\"#133#σ\")\n",
       "          var\"#134#μ\" = var\"#136#theta\"[3]\n",
       "          var\"#130#res\" += Main.logpdf(Main.Cauchy(0, 10), var\"#134#μ\")\n",
       "          var\"#135#h\" = Main.Vector{Main.eltype(var\"#136#theta\")}(Main.undef, 5)\n",
       "          var\"#135#h\"[1] = var\"#136#theta\"[4]\n",
       "          var\"#130#res\" += Main.logpdf(Main.Normal(var\"#134#μ\", var\"#133#σ\" / Main.sqrt(1 - var\"#132#ϕ\" ^ 2)), var\"#135#h\"[1])\n",
       "          var\"#135#h\"[2] = var\"#136#theta\"[2 + 3]\n",
       "          var\"#130#res\" += Main.logpdf(Main.Normal(var\"#134#μ\" + var\"#132#ϕ\" * (var\"#135#h\"[2 - 1] - var\"#134#μ\"), var\"#133#σ\"), var\"#135#h\"[2])\n",
       "          var\"#135#h\"[3] = var\"#136#theta\"[3 + 3]\n",
       "          var\"#130#res\" += Main.logpdf(Main.Normal(var\"#134#μ\" + var\"#132#ϕ\" * (var\"#135#h\"[3 - 1] - var\"#134#μ\"), var\"#133#σ\"), var\"#135#h\"[3])\n",
       "          var\"#135#h\"[4] = var\"#136#theta\"[4 + 3]\n",
       "          var\"#130#res\" += Main.logpdf(Main.Normal(var\"#134#μ\" + var\"#132#ϕ\" * (var\"#135#h\"[4 - 1] - var\"#134#μ\"), var\"#133#σ\"), var\"#135#h\"[4])\n",
       "          var\"#135#h\"[5] = var\"#136#theta\"[5 + 3]\n",
       "          var\"#130#res\" += Main.logpdf(Main.Normal(var\"#134#μ\" + var\"#132#ϕ\" * (var\"#135#h\"[5 - 1] - var\"#134#μ\"), var\"#133#σ\"), var\"#135#h\"[5])\n",
       "          var\"#130#res\" += Main.sum(Main.logpdf.(Main.Normal.(0, Main.exp.(var\"#135#h\" / 2)), var\"#129#y\"))\n",
       "          return var\"#130#res\"\n",
       "      end\n",
       "      #= In[7]:73 =#\n",
       "      return var\"#128#logdensity_sv_5\"\n",
       "  end)"
      ]
     },
     "metadata": {},
     "output_type": "display_data"
    }
   ],
   "source": [
    "# @model sto_volatility(y, ::Type{Tv}=Vector{Float64}) where {Tv} = begin\n",
    "#     T = length(y)\n",
    "#     ϕ ~ Uniform(-1, 1)\n",
    "#     σ ~ truncated(Cauchy(0, 5), 0, Inf)\n",
    "#     μ ~ Cauchy(0, 10)\n",
    "#     h = Tv(undef, T)\n",
    "#     h[1] ~ Normal(μ, σ / sqrt(1 - ϕ^2))\n",
    "#     for t in 2:T\n",
    "#         h[t] ~ Normal(μ + ϕ * (h[t-1] - μ), σ)\n",
    "#     end\n",
    "#     y ~ ArrayDist(Normal.(0, exp.(h / 2)))\n",
    "# end\n",
    "\n",
    "function rand_sv(T)\n",
    "    ϕ = rand(Uniform(-1, 1))\n",
    "    σ = rand(truncated(Cauchy(0, 5), 0, Inf))\n",
    "    μ = rand(Cauchy(0, 10))\n",
    "    h = zeros(T)\n",
    "    h[1] = rand(Normal(μ, σ / sqrt(1 - ϕ^2)))\n",
    "    for t in 2:T\n",
    "        h[t] = rand(Normal(μ + ϕ * (h[t-1] - μ), σ))\n",
    "    end\n",
    "    y = rand.(Normal.(0, exp.(h / 2)))\n",
    "    theta = [ϕ, σ, μ, h...]\n",
    "    return (theta=theta, y=y)\n",
    "end\n",
    "\n",
    "function get_logdensity_sv(y)\n",
    "    function logdensity_sv(theta)\n",
    "        res = 0\n",
    "        T = length(y)\n",
    "        ϕ = theta[1]\n",
    "        res += logpdf(Uniform(-1, 1), ϕ)\n",
    "        σ = theta[2]\n",
    "        res += logpdf(truncated(Cauchy(0, 5), 0, Inf), σ)\n",
    "        μ = theta[3]\n",
    "        res += logpdf(Cauchy(0, 10), μ)\n",
    "        h = Vector{eltype(theta)}(undef, T)\n",
    "        h[1] = theta[4]\n",
    "        res += logpdf(Normal(μ, σ / sqrt(1 - ϕ^2)), h[1])\n",
    "        for t in 2:T\n",
    "            h[t] = theta[t+3]\n",
    "            res += logpdf(Normal(μ + ϕ * (h[t-1] - μ), σ), h[t])\n",
    "        end\n",
    "        res += sum(logpdf.(Normal.(0, exp.(h / 2)), y))\n",
    "        return res\n",
    "    end\n",
    "    return logdensity_sv\n",
    "end\n",
    "\n",
    "macro get_logdensity_unroll_sv(T)\n",
    "    fn = Symbol(\"logdensity_sv_$T\")\n",
    "    getfn = Symbol(\"get_logdensity_sv_$T\")\n",
    "    ex = :(function $fn(theta) end)\n",
    "    body = ex.args[2]\n",
    "    push!(body.args, :(res = 0))\n",
    "    push!(body.args, :(T = length(y)))\n",
    "    push!(body.args, :(ϕ = theta[1]))\n",
    "    push!(body.args, :(res += logpdf(Uniform(-1, 1), ϕ)))\n",
    "    push!(body.args, :(σ = theta[2]))\n",
    "    push!(body.args, :(res += logpdf(truncated(Cauchy(0, 5), 0, Inf), σ)))\n",
    "    push!(body.args, :(μ = theta[3]))\n",
    "    push!(body.args, :(res += logpdf(Cauchy(0, 10), μ)))\n",
    "    push!(body.args, :(h = Vector{eltype(theta)}(undef, $T)))\n",
    "    push!(body.args, :(h[1] = theta[4]))\n",
    "    push!(body.args, :(res += logpdf(Normal(μ, σ / sqrt(1 - ϕ^2)), h[1])))\n",
    "    for t in 2:T\n",
    "        push!(body.args, :(h[$t] = theta[$t+3]))\n",
    "        push!(body.args, :(res += logpdf(Normal(μ + ϕ * (h[$t-1] - μ), σ), h[$t])))\n",
    "    end\n",
    "    push!(body.args, :(res += sum(logpdf.(Normal.(0, exp.(h / 2)), y))))\n",
    "    push!(body.args, :(return res))\n",
    "    return :(function $getfn(y) $ex; return $fn end)\n",
    "end\n",
    "\n",
    "@macroexpand(@get_logdensity_unroll_sv(5)) |> display\n",
    "\n",
    ";"
   ]
  },
  {
   "cell_type": "code",
   "execution_count": 8,
   "metadata": {},
   "outputs": [
    {
     "name": "stdout",
     "output_type": "stream",
     "text": [
      "logdensity_sv(x::Array{Float64,1})                      --- takes 1.8091e-6 seconds\n",
      "- ReverseDiff             --- takes 0.000259718 seconds\n",
      "- ReverseDiffCompiled     --- takes 4.5759e-5 seconds\n",
      "- Tracker                 --- takes 0.000205208 seconds\n",
      "- Zygote                  --- fails due to MethodError(Irrational{:log2π}, (1,), 0x0000000000006a2f)\n",
      "logdensity_sv(x::SArray{Tuple{53},Float64,1,53})        --- takes 1.8591e-6 seconds\n",
      "- ReverseDiff             --- takes 0.000257218 seconds\n",
      "- ReverseDiffCompiled     --- takes 4.6164e-5 seconds\n",
      "- Tracker                 --- fails due to ErrorException(\"setindex!(::SArray{Tuple{53},Float64,1,53}, value, ::Int) is not defined.\")\n",
      "- Zygote                  --- skips for SArray because it never finishs\n",
      "#137#logdensity_sv_50(x::Array{Float64,1})              --- takes 1.8683e-6 seconds\n",
      "- ReverseDiff             --- takes 0.000268866 seconds\n",
      "- ReverseDiffCompiled     --- takes 4.4977e-5 seconds\n",
      "- Tracker                 --- takes 0.000211031 seconds\n",
      "- Zygote                  --- fails due to MethodError(Irrational{:log2π}, (1,), 0x0000000000006a6e)\n",
      "#137#logdensity_sv_50(x::SArray{Tuple{53},Float64,1,53}) --- takes 1.8429000000000002e-6 seconds\n",
      "- ReverseDiff             --- takes 0.000268105 seconds\n",
      "- ReverseDiffCompiled     --- takes 4.5327e-5 seconds\n",
      "- Tracker                 --- fails due to ErrorException(\"setindex!(::SArray{Tuple{53},Float64,1,53}, value, ::Int) is not defined.\")\n",
      "- Zygote                  --- skips for SArray because it never finishs\n"
     ]
    }
   ],
   "source": [
    "let res = rand_sv(50), get_logdensity_unroll_sv = @get_logdensity_unroll_sv(50)\n",
    "    logdensity_sv = get_logdensity_sv(res.y)\n",
    "    logdensity_sv_unroll = get_logdensity_unroll_sv(res.y)\n",
    "    \n",
    "    benchmark(logdensity_sv, res.theta)\n",
    "    benchmark(logdensity_sv_unroll, res.theta)\n",
    "end\n",
    "\n",
    ";"
   ]
  },
  {
   "cell_type": "code",
   "execution_count": 9,
   "metadata": {},
   "outputs": [
    {
     "name": "stdout",
     "output_type": "stream",
     "text": [
      "logdensity_sv(x::Array{Float64,1})                      --- takes 1.771e-5 seconds\n",
      "- ReverseDiff             --- takes 0.003139698 seconds\n",
      "- ReverseDiffCompiled     --- takes 0.00046833 seconds\n",
      "- Tracker                 --- takes 0.003074429 seconds\n",
      "- Zygote                  --- fails due to MethodError(Irrational{:log2π}, (1,), 0x0000000000006aaf)\n",
      "logdensity_sv(x::SArray{Tuple{503},Float64,1,503})      --- takes 1.803e-5 seconds\n",
      "- ReverseDiff             --- takes 0.002878644 seconds\n",
      "- ReverseDiffCompiled     --- takes 0.00044813 seconds\n",
      "- Tracker                 --- fails due to ErrorException(\"setindex!(::SArray{Tuple{503},Float64,1,503}, value, ::Int) is not defined.\")\n",
      "- Zygote                  --- skips for SArray because it never finishs\n",
      "#173#logdensity_sv_500(x::Array{Float64,1})             --- takes 1.9161e-5 seconds\n",
      "- ReverseDiff             --- takes 0.002964266 seconds\n",
      "- ReverseDiffCompiled     --- takes 0.000450693 seconds\n",
      "- Tracker                 --- takes 0.002784726 seconds\n",
      "- Zygote                  --- fails due to MethodError(Irrational{:log2π}, (1,), 0x0000000000006aee)\n",
      "#173#logdensity_sv_500(x::SArray{Tuple{503},Float64,1,503}) --- takes 1.8592e-5 seconds\n",
      "- ReverseDiff             --- takes 0.003066891 seconds\n",
      "- ReverseDiffCompiled     --- takes 0.000438388 seconds\n",
      "- Tracker                 --- fails due to ErrorException(\"setindex!(::SArray{Tuple{503},Float64,1,503}, value, ::Int) is not defined.\")\n",
      "- Zygote                  --- skips for SArray because it never finishs\n"
     ]
    }
   ],
   "source": [
    "let res = rand_sv(500), get_logdensity_unroll_sv = @get_logdensity_unroll_sv(500)\n",
    "    logdensity_sv = get_logdensity_sv(res.y)\n",
    "    logdensity_sv_unroll = get_logdensity_unroll_sv(res.y)\n",
    "    \n",
    "    benchmark(logdensity_sv, res.theta)\n",
    "    benchmark(logdensity_sv_unroll, res.theta)\n",
    "end\n",
    "\n",
    ";"
   ]
  },
  {
   "cell_type": "code",
   "execution_count": null,
   "metadata": {},
   "outputs": [],
   "source": []
  }
 ],
 "metadata": {
  "kernelspec": {
   "display_name": "Julia 1.3.0",
   "language": "julia",
   "name": "julia-1.3"
  },
  "language_info": {
   "file_extension": ".jl",
   "mimetype": "application/julia",
   "name": "julia",
   "version": "1.3.0"
  }
 },
 "nbformat": 4,
 "nbformat_minor": 2
}
